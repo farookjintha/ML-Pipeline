{
 "cells": [
  {
   "cell_type": "code",
   "execution_count": null,
   "metadata": {},
   "outputs": [],
   "source": [
    "import sys\n",
    "import os\n",
    "import pandas as pd\n",
    "import numpy as np"
   ]
  },
  {
   "cell_type": "code",
   "execution_count": null,
   "metadata": {},
   "outputs": [],
   "source": [
    "import matplotlib.pyplot as plt\n",
    "import seaborn as sns"
   ]
  },
  {
   "cell_type": "code",
   "execution_count": null,
   "metadata": {},
   "outputs": [],
   "source": [
    "from IPython.display import display\n",
    "%matplotlib inline"
   ]
  },
  {
   "cell_type": "code",
   "execution_count": null,
   "metadata": {},
   "outputs": [],
   "source": [
    "import plotly.offline as py\n",
    "import plotly.graph_objs as go\n",
    "import plotly.tools as tls\n",
    "py.init_notebook_mode(connected=True)"
   ]
  },
  {
   "cell_type": "code",
   "execution_count": null,
   "metadata": {},
   "outputs": [],
   "source": [
    "import warnings\n",
    "warnings.filterwarnings('ignore')"
   ]
  },
  {
   "cell_type": "code",
   "execution_count": null,
   "metadata": {},
   "outputs": [],
   "source": [
    "SEED = 7\n",
    "np.random.seed(SEED)"
   ]
  },
  {
   "cell_type": "code",
   "execution_count": null,
   "metadata": {},
   "outputs": [],
   "source": [
    "df = pd.read_csv('./data/diabetes.csv')\n",
    "df_name = df.columns\n",
    "df_name"
   ]
  },
  {
   "cell_type": "code",
   "execution_count": null,
   "metadata": {},
   "outputs": [],
   "source": [
    "df.head()"
   ]
  },
  {
   "cell_type": "code",
   "execution_count": null,
   "metadata": {},
   "outputs": [],
   "source": [
    "df.info()"
   ]
  },
  {
   "cell_type": "code",
   "execution_count": null,
   "metadata": {},
   "outputs": [],
   "source": [
    "df.describe()"
   ]
  },
  {
   "cell_type": "code",
   "execution_count": null,
   "metadata": {},
   "outputs": [],
   "source": [
    "g = sns.pairplot(df, hue = \"Outcome\", palette = 'husl')"
   ]
  },
  {
   "cell_type": "code",
   "execution_count": null,
   "metadata": {},
   "outputs": [],
   "source": [
    "def plotHist(df,nameOfFeature):\n",
    "    cls_train = df[nameOfFeature]\n",
    "    data_array = cls_train\n",
    "    hist_data = np.histogram(data_array)\n",
    "    binsize = .5\n",
    "\n",
    "    trace1 = go.Histogram(\n",
    "        x=data_array,\n",
    "        autobinx=False,\n",
    "        xbins=dict(\n",
    "            start=df[nameOfFeature].min()-1,\n",
    "            end=df[nameOfFeature].max()+1,\n",
    "            size=binsize\n",
    "        )\n",
    "    )\n",
    "\n",
    "    trace_data = [trace1]\n",
    "    layout = go.Layout(\n",
    "        title='The distribution of ' + nameOfFeature,\n",
    "        xaxis=dict(\n",
    "            title=nameOfFeature,\n",
    "            titlefont=dict(\n",
    "                family='Courier New, monospace',\n",
    "                size=18,\n",
    "                color='#7f7f7f'\n",
    "            )\n",
    "        ),\n",
    "        yaxis=dict(\n",
    "            title='Number of labels',\n",
    "            titlefont=dict(\n",
    "                family='Courier New, monospace',\n",
    "                size=18,\n",
    "                color='#7f7f7f'\n",
    "            )\n",
    "        )\n",
    "    )\n",
    "    fig = go.Figure(data=trace_data, layout=layout)\n",
    "    py.iplot(fig)"
   ]
  },
  {
   "cell_type": "code",
   "execution_count": null,
   "metadata": {},
   "outputs": [],
   "source": [
    "plotHist(df,'Pregnancies')"
   ]
  },
  {
   "cell_type": "code",
   "execution_count": null,
   "metadata": {},
   "outputs": [],
   "source": [
    "from scipy.stats import skew\n",
    "from scipy.stats import kurtosis\n",
    "def plotBarCat(df,feature,target):\n",
    "    \n",
    "    \n",
    "    \n",
    "    x0 = df[df[target]==0][feature] #x0 contains values only for outcome 0\n",
    "    x1 = df[df[target]==1][feature] #x1 contains values only for outcome 1\n",
    "\n",
    "    trace1 = go.Histogram(\n",
    "        x=x0,\n",
    "        opacity=0.75\n",
    "    )\n",
    "    trace2 = go.Histogram(\n",
    "        x=x1,\n",
    "        opacity=0.75\n",
    "    )\n",
    "\n",
    "    data = [trace1, trace2]\n",
    "    layout = go.Layout(barmode='overlay',\n",
    "                      title=feature,\n",
    "                       yaxis=dict(title='Count'\n",
    "        ))\n",
    "    fig = go.Figure(data=data, layout=layout)\n",
    "\n",
    "    py.iplot(fig, filename='overlaid histogram')\n",
    "    \n",
    "    def DescribeFloatSkewKurt(df,target):\n",
    "        \"\"\"\n",
    "            A fundamental task in many statistical analyses is to characterize\n",
    "            the location and variability of a data set. A further\n",
    "            characterization of the data includes skewness and kurtosis.\n",
    "            Skewness is a measure of symmetry, or more precisely, the lack\n",
    "            of symmetry. A distribution, or data set, is symmetric if it\n",
    "            looks the same to the left and right of the center point.\n",
    "            Kurtosis is a measure of whether the data are heavy-tailed\n",
    "            or light-tailed relative to a normal distribution. That is,\n",
    "            data sets with high kurtosis tend to have heavy tails, or\n",
    "            outliers. Data sets with low kurtosis tend to have light\n",
    "            tails, or lack of outliers. A uniform distribution would\n",
    "            be the extreme case\n",
    "        \"\"\"\n",
    "        print('-*-'*25)\n",
    "        print(\"{0} mean : \".format(target), np.mean(df[target]))\n",
    "        print(\"{0} var  : \".format(target), np.var(df[target]))\n",
    "        print(\"{0} skew : \".format(target), skew(df[target]))\n",
    "        print(\"{0} kurt : \".format(target), kurtosis(df[target]))\n",
    "        print('-*-'*25)\n",
    "    \n",
    "    DescribeFloatSkewKurt(df,target)"
   ]
  },
  {
   "cell_type": "code",
   "execution_count": null,
   "metadata": {},
   "outputs": [],
   "source": [
    "plotBarCat(df,df_name[0],'Outcome')"
   ]
  },
  {
   "cell_type": "code",
   "execution_count": null,
   "metadata": {},
   "outputs": [],
   "source": [
    "plotBarCat(df,df_name[1],'Outcome')"
   ]
  },
  {
   "cell_type": "code",
   "execution_count": null,
   "metadata": {},
   "outputs": [],
   "source": [
    "plotBarCat(df,df_name[2],'Outcome')"
   ]
  },
  {
   "cell_type": "code",
   "execution_count": null,
   "metadata": {},
   "outputs": [],
   "source": [
    "plotBarCat(df,df_name[3],'Outcome')"
   ]
  },
  {
   "cell_type": "code",
   "execution_count": null,
   "metadata": {},
   "outputs": [],
   "source": [
    "plotBarCat(df,df_name[4],'Outcome')"
   ]
  },
  {
   "cell_type": "code",
   "execution_count": null,
   "metadata": {},
   "outputs": [],
   "source": [
    "plotBarCat(df,df_name[5],'Outcome')"
   ]
  },
  {
   "cell_type": "code",
   "execution_count": null,
   "metadata": {},
   "outputs": [],
   "source": [
    "plotBarCat(df,df_name[6],'Outcome')"
   ]
  },
  {
   "cell_type": "code",
   "execution_count": null,
   "metadata": {},
   "outputs": [],
   "source": [
    "plotBarCat(df,df_name[7],'Outcome')"
   ]
  },
  {
   "cell_type": "code",
   "execution_count": null,
   "metadata": {},
   "outputs": [],
   "source": [
    "plotBarCat(df,df_name[8],'Outcome')"
   ]
  },
  {
   "cell_type": "code",
   "execution_count": null,
   "metadata": {},
   "outputs": [],
   "source": [
    "def PlotPie(df, nameOfFeature):\n",
    "    labels = [str(df[nameOfFeature].unique()[i]) for i in range(df[nameOfFeature].nunique())]\n",
    "    values = [df[nameOfFeature].value_counts()[i] for i in range(df[nameOfFeature].nunique())]\n",
    "\n",
    "    trace=go.Pie(labels=labels,values=values)\n",
    "\n",
    "    py.iplot([trace])"
   ]
  },
  {
   "cell_type": "code",
   "execution_count": null,
   "metadata": {},
   "outputs": [],
   "source": [
    "PlotPie(df, 'Outcome')"
   ]
  },
  {
   "cell_type": "code",
   "execution_count": null,
   "metadata": {},
   "outputs": [],
   "source": [
    "def OutLiersBox(df, nameOfFeature):\n",
    "    trace0 = go.Box(\n",
    "                y = df[nameOfFeature],\n",
    "                name = \"All Points\",\n",
    "                jitter = 0.3,\n",
    "                pointpos = -1.8,\n",
    "                boxpoints = 'all',\n",
    "                marker = dict(\n",
    "                    color = 'rgb(7,40,89)'),\n",
    "                line = dict(\n",
    "                    color = 'rgb(7,40,89)')\n",
    "    )\n",
    "    \n",
    "    trace1 = go.Box(\n",
    "                y = df[nameOfFeature],\n",
    "                name = \"Only Whiskers\",\n",
    "                boxpoints = False,\n",
    "                marker = dict(\n",
    "                    color = 'rgb(9,56,125)'),\n",
    "                line = dict(\n",
    "                    color = 'rgb(9,56,125)')\n",
    "    )\n",
    "    \n",
    "    trace2 = go.Box(\n",
    "                y = df[nameOfFeature],\n",
    "                name = \"Suspected Outliers\",\n",
    "                boxpoints = \"suspectedoutliers\",\n",
    "                marker = dict(\n",
    "                    color = 'rgb(8,81,156)',\n",
    "                    outliercolor = 'rgba(219, 64, 82, 0.6)',\n",
    "                    line = dict(\n",
    "                        outliercolor = 'rgba(219, 64, 82, 0.6)',\n",
    "                        outlierwidth = 2)),\n",
    "                line = dict(\n",
    "                    color = 'rgb(8,81,156)')\n",
    "    )\n",
    "    \n",
    "    trace3 = go.Box(\n",
    "                y = df[nameOfFeature],\n",
    "                name = \"Whiskers and Outliers\",\n",
    "                boxpoints = 'outliers',\n",
    "                marker = dict(\n",
    "                    color = 'rgb(107,174,214)'),\n",
    "                line = dict(\n",
    "                    color = 'rgb(107,174,214)')\n",
    "    )\n",
    "    \n",
    "    data = [trace0, trace1, trace2, trace3]\n",
    "    layout = go.Layout(\n",
    "            title = \"{} Outliers\".format(nameOfFeature)\n",
    "    )\n",
    "    \n",
    "    fig = go.Figure(data = data, layout = layout)\n",
    "    py.iplot(fig, filename = \"Outliers\")\n",
    "    "
   ]
  },
  {
   "cell_type": "code",
   "execution_count": null,
   "metadata": {},
   "outputs": [],
   "source": [
    "OutLiersBox(df, df_name[0])"
   ]
  },
  {
   "cell_type": "code",
   "execution_count": null,
   "metadata": {},
   "outputs": [],
   "source": [
    "OutLiersBox(df, df_name[1])"
   ]
  },
  {
   "cell_type": "code",
   "execution_count": null,
   "metadata": {},
   "outputs": [],
   "source": [
    "OutLiersBox(df, df_name[2])"
   ]
  },
  {
   "cell_type": "code",
   "execution_count": null,
   "metadata": {},
   "outputs": [],
   "source": [
    "OutLiersBox(df, df_name[3])"
   ]
  },
  {
   "cell_type": "code",
   "execution_count": null,
   "metadata": {},
   "outputs": [],
   "source": [
    "OutLiersBox(df, df_name[4])"
   ]
  },
  {
   "cell_type": "code",
   "execution_count": null,
   "metadata": {},
   "outputs": [],
   "source": [
    "OutLiersBox(df, df_name[5])"
   ]
  },
  {
   "cell_type": "code",
   "execution_count": null,
   "metadata": {},
   "outputs": [],
   "source": [
    "OutLiersBox(df, df_name[6])"
   ]
  },
  {
   "cell_type": "code",
   "execution_count": null,
   "metadata": {},
   "outputs": [],
   "source": [
    "OutLiersBox(df, df_name[7])"
   ]
  },
  {
   "cell_type": "markdown",
   "metadata": {},
   "source": [
    "# Outliers Investigation Pairs"
   ]
  },
  {
   "cell_type": "code",
   "execution_count": null,
   "metadata": {},
   "outputs": [],
   "source": [
    "from scipy import stats\n",
    "import matplotlib.pyplot as plt\n",
    "import matplotlib.font_manager"
   ]
  },
  {
   "cell_type": "code",
   "execution_count": null,
   "metadata": {},
   "outputs": [],
   "source": [
    "from sklearn import svm\n",
    "from sklearn.covariance import EllipticEnvelope\n",
    "from sklearn.ensemble import  IsolationForest\n",
    "from sklearn.neighbors import LocalOutlierFactor"
   ]
  },
  {
   "cell_type": "code",
   "execution_count": null,
   "metadata": {},
   "outputs": [],
   "source": [
    "def OutlierDetection(df, feature1, feature2, outliers_fraction = .1):\n",
    "    new_df = df.copy()\n",
    "    rng = np.random.RandomState(42)\n",
    "    \n",
    "    n_samples = new_df.shape[0]\n",
    "    clusters_separation = [0]\n",
    "    \n",
    "    classifiers = {\n",
    "        \"One-Class SVM\" : svm.OneClassSVM(nu = 0.95*outliers_fraction+0.05,\n",
    "                                         kernel = \"rbf\", gamma = 0.1),\n",
    "        \"Robust Covariance\" : EllipticEnvelope(contamination = outliers_fraction),\n",
    "        \"Isolation Forest\" : IsolationForest(max_samples = n_samples, \n",
    "                                            contamination = outliers_fraction, \n",
    "                                            random_state = rng),\n",
    "        \"Local Outlier Factor\" : LocalOutlierFactor(\n",
    "                                                    n_neighbors = 35,\n",
    "                                                    contamination = outliers_fraction)\n",
    "    }\n",
    "    \n",
    "    xx, yy = np.meshgrid(np.linspace(new_df[feature1].min()-new_df[feature1].min()*10/100,\n",
    "                                    new_df[feature1].max()-new_df[feature1].max()*10/100, 50),\n",
    "                        np.linspace(new_df[feature2].min()-new_df[feature2].min()*10/100,\n",
    "                                   new_df[feature2].max()-new_df[feature2].max()*10/100, 50))\n",
    "    n_inliers = int((1. - outliers_fraction)*n_samples)\n",
    "    n_outliers = int(outliers_fraction*n_samples)\n",
    "    ground_truth = np.ones(n_samples, dtype = int)\n",
    "    ground_truth[-n_outliers:] = -1\n",
    "    \n",
    "    for i, offset in enumerate(clusters_separation):\n",
    "        np.random.seed(42)\n",
    "        \n",
    "        X = new_df[[feature1, feature2]].values.tolist()\n",
    "        \n",
    "        plt.figure(figsize=(9,7))\n",
    "        for i, (clf_name, clf) in enumerate(classifiers.items()):\n",
    "            if clf_name == \"Local Outlier Factor\":\n",
    "                y_pred = clf.fit_predict(X)\n",
    "                scores_pred = clf.negative_outlier_factor_\n",
    "            else:\n",
    "                clf.fit(X)\n",
    "                scores_pred = clf.decision_function(X)\n",
    "                y_pred = clf.predict(X)\n",
    "            \n",
    "            threshold = stats.scoreatpercentile(scores_pred, 100*outliers_fraction)\n",
    "            n_errors = (y_pred != ground_truth).sum()\n",
    "            \n",
    "            unique, counts = np.unique(y_pred, return_counts = True)\n",
    "            print(clf_name, dict(zip(unique, counts)))\n",
    "            \n",
    "            new_df[feature1+\"_\"+feature2+clf_name] = y_pred\n",
    "            \n",
    "            if clf_name == \"Local Outlier Factor\":\n",
    "                Z = clf._decision_function(np.c_[xx.ravel(), yy.ravel()])\n",
    "            else:\n",
    "                Z = clf.decision_function(np.c_[xx.ravel(), yy.ravel()])\n",
    "            \n",
    "            Z = Z.reshape(xx.shape)\n",
    "            subplot = plt.subplot(2, 2, i+1)\n",
    "            subplot.contourf(xx, yy, Z, levels = np.linspace(Z.min(), threshold, 7),\n",
    "                            cmap = plt.cm.Blues_r)\n",
    "            \n",
    "            a = subplot.contour(xx, yy, Z, levels = [threshold],\n",
    "                               linewidths =2, colors = 'red')\n",
    "            subplot.contourf(xx, yy, Z, levels = [threshold, Z.max()],\n",
    "                            colors = 'orange')\n",
    "            b = plt.scatter(new_df[feature1], new_df[feature2], c = \"white\",\n",
    "                           s = 20, edgecolor = 'k')\n",
    "            \n",
    "            subplot.axis('tight')\n",
    "            subplot.set_xlabel(\"%s\"%(feature1))\n",
    "            \n",
    "            plt.ylabel(feature2)\n",
    "            plt.title(\"%d %s (errors: %d)\"%(i+1, clf_name, n_errors))\n",
    "            \n",
    "        plt.subplots_adjust(0.04, 0.1, 0.96, 0.94, 0.1, 0.26)\n",
    "        \n",
    "    plt.show()\n",
    "    return new_df\n",
    "            \n",
    "            "
   ]
  },
  {
   "cell_type": "code",
   "execution_count": null,
   "metadata": {},
   "outputs": [],
   "source": [
    "tt = OutlierDetection(df, \"Pregnancies\", \"BloodPressure\",.1)"
   ]
  },
  {
   "cell_type": "code",
   "execution_count": null,
   "metadata": {},
   "outputs": [],
   "source": []
  }
 ],
 "metadata": {
  "kernelspec": {
   "display_name": "Python 3",
   "language": "python",
   "name": "python3"
  },
  "language_info": {
   "codemirror_mode": {
    "name": "ipython",
    "version": 3
   },
   "file_extension": ".py",
   "mimetype": "text/x-python",
   "name": "python",
   "nbconvert_exporter": "python",
   "pygments_lexer": "ipython3",
   "version": "3.7.0"
  }
 },
 "nbformat": 4,
 "nbformat_minor": 2
}
